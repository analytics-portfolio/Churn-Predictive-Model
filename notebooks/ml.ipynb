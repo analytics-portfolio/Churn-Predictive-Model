{
 "cells": [
  {
   "cell_type": "markdown",
   "metadata": {},
   "source": [
    "## **Project Report**"
   ]
  },
  {
   "cell_type": "markdown",
   "metadata": {},
   "source": []
  },
  {
   "cell_type": "markdown",
   "metadata": {},
   "source": [
    "*Note: To run this notebook without error and render the report above, please run all the code below this cell first*"
   ]
  },
  {
   "cell_type": "code",
   "execution_count": 3,
   "metadata": {},
   "outputs": [],
   "source": [
    "import pandas as pd\n",
    "import numpy as np\n",
    "import matplotlib.pyplot as plt\n",
    "import seaborn as sns\n",
    "\n",
    "from xgboost import XGBClassifier\n",
    "from xgboost import plot_tree\n",
    "\n",
    "from sklearn.model_selection import train_test_split\n",
    "from sklearn.metrics import accuracy_score, confusion_matrix, classification_report"
   ]
  },
  {
   "cell_type": "code",
   "execution_count": 50,
   "metadata": {},
   "outputs": [],
   "source": [
    "# import data\n",
    "train_df = pd.read_csv('../data/train.csv')\n",
    "test_df = pd.read_csv('../data/test.csv')\n",
    "submission_df = pd.read_csv('../data/sample_submission.csv')"
   ]
  },
  {
   "cell_type": "markdown",
   "metadata": {},
   "source": [
    "## Data Preparation for model training"
   ]
  },
  {
   "cell_type": "code",
   "execution_count": 56,
   "metadata": {},
   "outputs": [],
   "source": [
    "cols_to_drop = ['id', 'CustomerId', 'Surname']\n",
    "X_train = train_df.drop(cols_to_drop, axis=1).copy()\n",
    "X_train.drop('Exited', axis=1, inplace=True)\n",
    "y_train = train_df['Exited'].copy()\n",
    "\n",
    "X_test = test_df.drop(cols_to_drop, axis=1).copy()"
   ]
  },
  {
   "cell_type": "markdown",
   "metadata": {},
   "source": [
    "### 1. One Hot Encoding Categorical Variables: "
   ]
  },
  {
   "cell_type": "code",
   "execution_count": 52,
   "metadata": {},
   "outputs": [
    {
     "data": {
      "text/html": [
       "<div>\n",
       "<style scoped>\n",
       "    .dataframe tbody tr th:only-of-type {\n",
       "        vertical-align: middle;\n",
       "    }\n",
       "\n",
       "    .dataframe tbody tr th {\n",
       "        vertical-align: top;\n",
       "    }\n",
       "\n",
       "    .dataframe thead th {\n",
       "        text-align: right;\n",
       "    }\n",
       "</style>\n",
       "<table border=\"1\" class=\"dataframe\">\n",
       "  <thead>\n",
       "    <tr style=\"text-align: right;\">\n",
       "      <th></th>\n",
       "      <th>CreditScore</th>\n",
       "      <th>Age</th>\n",
       "      <th>Tenure</th>\n",
       "      <th>Balance</th>\n",
       "      <th>EstimatedSalary</th>\n",
       "      <th>Geography_Germany</th>\n",
       "      <th>Geography_Spain</th>\n",
       "      <th>Gender_Male</th>\n",
       "      <th>NumOfProducts_2</th>\n",
       "      <th>NumOfProducts_3</th>\n",
       "      <th>NumOfProducts_4</th>\n",
       "      <th>HasCrCard_1.0</th>\n",
       "      <th>IsActiveMember_1.0</th>\n",
       "    </tr>\n",
       "  </thead>\n",
       "  <tbody>\n",
       "    <tr>\n",
       "      <th>0</th>\n",
       "      <td>668</td>\n",
       "      <td>33.0</td>\n",
       "      <td>3</td>\n",
       "      <td>0.00</td>\n",
       "      <td>181449.97</td>\n",
       "      <td>False</td>\n",
       "      <td>False</td>\n",
       "      <td>True</td>\n",
       "      <td>True</td>\n",
       "      <td>False</td>\n",
       "      <td>False</td>\n",
       "      <td>True</td>\n",
       "      <td>False</td>\n",
       "    </tr>\n",
       "    <tr>\n",
       "      <th>1</th>\n",
       "      <td>627</td>\n",
       "      <td>33.0</td>\n",
       "      <td>1</td>\n",
       "      <td>0.00</td>\n",
       "      <td>49503.50</td>\n",
       "      <td>False</td>\n",
       "      <td>False</td>\n",
       "      <td>True</td>\n",
       "      <td>True</td>\n",
       "      <td>False</td>\n",
       "      <td>False</td>\n",
       "      <td>True</td>\n",
       "      <td>True</td>\n",
       "    </tr>\n",
       "    <tr>\n",
       "      <th>2</th>\n",
       "      <td>678</td>\n",
       "      <td>40.0</td>\n",
       "      <td>10</td>\n",
       "      <td>0.00</td>\n",
       "      <td>184866.69</td>\n",
       "      <td>False</td>\n",
       "      <td>False</td>\n",
       "      <td>True</td>\n",
       "      <td>True</td>\n",
       "      <td>False</td>\n",
       "      <td>False</td>\n",
       "      <td>True</td>\n",
       "      <td>False</td>\n",
       "    </tr>\n",
       "    <tr>\n",
       "      <th>3</th>\n",
       "      <td>581</td>\n",
       "      <td>34.0</td>\n",
       "      <td>2</td>\n",
       "      <td>148882.54</td>\n",
       "      <td>84560.88</td>\n",
       "      <td>False</td>\n",
       "      <td>False</td>\n",
       "      <td>True</td>\n",
       "      <td>False</td>\n",
       "      <td>False</td>\n",
       "      <td>False</td>\n",
       "      <td>True</td>\n",
       "      <td>True</td>\n",
       "    </tr>\n",
       "    <tr>\n",
       "      <th>4</th>\n",
       "      <td>716</td>\n",
       "      <td>33.0</td>\n",
       "      <td>5</td>\n",
       "      <td>0.00</td>\n",
       "      <td>15068.83</td>\n",
       "      <td>False</td>\n",
       "      <td>True</td>\n",
       "      <td>True</td>\n",
       "      <td>True</td>\n",
       "      <td>False</td>\n",
       "      <td>False</td>\n",
       "      <td>True</td>\n",
       "      <td>True</td>\n",
       "    </tr>\n",
       "  </tbody>\n",
       "</table>\n",
       "</div>"
      ],
      "text/plain": [
       "   CreditScore   Age  Tenure    Balance  EstimatedSalary  Geography_Germany  \\\n",
       "0          668  33.0       3       0.00        181449.97              False   \n",
       "1          627  33.0       1       0.00         49503.50              False   \n",
       "2          678  40.0      10       0.00        184866.69              False   \n",
       "3          581  34.0       2  148882.54         84560.88              False   \n",
       "4          716  33.0       5       0.00         15068.83              False   \n",
       "\n",
       "   Geography_Spain  Gender_Male  NumOfProducts_2  NumOfProducts_3  \\\n",
       "0            False         True             True            False   \n",
       "1            False         True             True            False   \n",
       "2            False         True             True            False   \n",
       "3            False         True            False            False   \n",
       "4             True         True             True            False   \n",
       "\n",
       "   NumOfProducts_4  HasCrCard_1.0  IsActiveMember_1.0  \n",
       "0            False           True               False  \n",
       "1            False           True                True  \n",
       "2            False           True               False  \n",
       "3            False           True                True  \n",
       "4            False           True                True  "
      ]
     },
     "execution_count": 52,
     "metadata": {},
     "output_type": "execute_result"
    }
   ],
   "source": [
    "dummies_col = ['Geography', 'Gender', 'NumOfProducts', 'HasCrCard', 'IsActiveMember']\n",
    "\n",
    "X_train = pd.get_dummies(X_train, columns=dummies_col, drop_first=True)\n",
    "X_train.head()"
   ]
  },
  {
   "cell_type": "code",
   "execution_count": 53,
   "metadata": {},
   "outputs": [
    {
     "data": {
      "text/plain": [
       "Exited\n",
       "0    0.788401\n",
       "1    0.211599\n",
       "Name: proportion, dtype: float64"
      ]
     },
     "execution_count": 53,
     "metadata": {},
     "output_type": "execute_result"
    }
   ],
   "source": [
    "# Checking the ratio of the target variable\n",
    "y_train.value_counts(normalize=True)"
   ]
  },
  {
   "cell_type": "markdown",
   "metadata": {},
   "source": [
    "The distribution of target label (0 and 1) are highly imbalanced: almost 80% of the data is of label 0 (non-exited), label 1 only accounts for ~20%. "
   ]
  },
  {
   "cell_type": "markdown",
   "metadata": {},
   "source": [
    "### 2. Feature Scaling"
   ]
  },
  {
   "cell_type": "code",
   "execution_count": 54,
   "metadata": {},
   "outputs": [
    {
     "name": "stdout",
     "output_type": "stream",
     "text": [
      "Before scaling, training data summary: \n"
     ]
    },
    {
     "data": {
      "text/html": [
       "<div>\n",
       "<style scoped>\n",
       "    .dataframe tbody tr th:only-of-type {\n",
       "        vertical-align: middle;\n",
       "    }\n",
       "\n",
       "    .dataframe tbody tr th {\n",
       "        vertical-align: top;\n",
       "    }\n",
       "\n",
       "    .dataframe thead th {\n",
       "        text-align: right;\n",
       "    }\n",
       "</style>\n",
       "<table border=\"1\" class=\"dataframe\">\n",
       "  <thead>\n",
       "    <tr style=\"text-align: right;\">\n",
       "      <th></th>\n",
       "      <th>CreditScore</th>\n",
       "      <th>Age</th>\n",
       "      <th>Tenure</th>\n",
       "      <th>Balance</th>\n",
       "      <th>EstimatedSalary</th>\n",
       "    </tr>\n",
       "  </thead>\n",
       "  <tbody>\n",
       "    <tr>\n",
       "      <th>count</th>\n",
       "      <td>165034.00</td>\n",
       "      <td>165034.00</td>\n",
       "      <td>165034.00</td>\n",
       "      <td>165034.00</td>\n",
       "      <td>165034.00</td>\n",
       "    </tr>\n",
       "    <tr>\n",
       "      <th>mean</th>\n",
       "      <td>656.45</td>\n",
       "      <td>38.13</td>\n",
       "      <td>5.02</td>\n",
       "      <td>55478.09</td>\n",
       "      <td>112574.82</td>\n",
       "    </tr>\n",
       "    <tr>\n",
       "      <th>std</th>\n",
       "      <td>80.10</td>\n",
       "      <td>8.87</td>\n",
       "      <td>2.81</td>\n",
       "      <td>62817.66</td>\n",
       "      <td>50292.87</td>\n",
       "    </tr>\n",
       "    <tr>\n",
       "      <th>min</th>\n",
       "      <td>350.00</td>\n",
       "      <td>18.00</td>\n",
       "      <td>0.00</td>\n",
       "      <td>0.00</td>\n",
       "      <td>11.58</td>\n",
       "    </tr>\n",
       "    <tr>\n",
       "      <th>25%</th>\n",
       "      <td>597.00</td>\n",
       "      <td>32.00</td>\n",
       "      <td>3.00</td>\n",
       "      <td>0.00</td>\n",
       "      <td>74637.57</td>\n",
       "    </tr>\n",
       "    <tr>\n",
       "      <th>50%</th>\n",
       "      <td>659.00</td>\n",
       "      <td>37.00</td>\n",
       "      <td>5.00</td>\n",
       "      <td>0.00</td>\n",
       "      <td>117948.00</td>\n",
       "    </tr>\n",
       "    <tr>\n",
       "      <th>75%</th>\n",
       "      <td>710.00</td>\n",
       "      <td>42.00</td>\n",
       "      <td>7.00</td>\n",
       "      <td>119939.52</td>\n",
       "      <td>155152.47</td>\n",
       "    </tr>\n",
       "    <tr>\n",
       "      <th>max</th>\n",
       "      <td>850.00</td>\n",
       "      <td>92.00</td>\n",
       "      <td>10.00</td>\n",
       "      <td>250898.09</td>\n",
       "      <td>199992.48</td>\n",
       "    </tr>\n",
       "  </tbody>\n",
       "</table>\n",
       "</div>"
      ],
      "text/plain": [
       "       CreditScore        Age     Tenure    Balance  EstimatedSalary\n",
       "count    165034.00  165034.00  165034.00  165034.00        165034.00\n",
       "mean        656.45      38.13       5.02   55478.09        112574.82\n",
       "std          80.10       8.87       2.81   62817.66         50292.87\n",
       "min         350.00      18.00       0.00       0.00            11.58\n",
       "25%         597.00      32.00       3.00       0.00         74637.57\n",
       "50%         659.00      37.00       5.00       0.00        117948.00\n",
       "75%         710.00      42.00       7.00  119939.52        155152.47\n",
       "max         850.00      92.00      10.00  250898.09        199992.48"
      ]
     },
     "metadata": {},
     "output_type": "display_data"
    },
    {
     "name": "stdout",
     "output_type": "stream",
     "text": [
      "After scaling, training data summary: \n"
     ]
    },
    {
     "data": {
      "text/html": [
       "<div>\n",
       "<style scoped>\n",
       "    .dataframe tbody tr th:only-of-type {\n",
       "        vertical-align: middle;\n",
       "    }\n",
       "\n",
       "    .dataframe tbody tr th {\n",
       "        vertical-align: top;\n",
       "    }\n",
       "\n",
       "    .dataframe thead th {\n",
       "        text-align: right;\n",
       "    }\n",
       "</style>\n",
       "<table border=\"1\" class=\"dataframe\">\n",
       "  <thead>\n",
       "    <tr style=\"text-align: right;\">\n",
       "      <th></th>\n",
       "      <th>CreditScore</th>\n",
       "      <th>Age</th>\n",
       "      <th>Tenure</th>\n",
       "      <th>Balance</th>\n",
       "      <th>EstimatedSalary</th>\n",
       "    </tr>\n",
       "  </thead>\n",
       "  <tbody>\n",
       "    <tr>\n",
       "      <th>count</th>\n",
       "      <td>165034.00</td>\n",
       "      <td>165034.00</td>\n",
       "      <td>165034.00</td>\n",
       "      <td>165034.00</td>\n",
       "      <td>165034.00</td>\n",
       "    </tr>\n",
       "    <tr>\n",
       "      <th>mean</th>\n",
       "      <td>0.61</td>\n",
       "      <td>0.27</td>\n",
       "      <td>0.50</td>\n",
       "      <td>0.22</td>\n",
       "      <td>0.56</td>\n",
       "    </tr>\n",
       "    <tr>\n",
       "      <th>std</th>\n",
       "      <td>0.16</td>\n",
       "      <td>0.12</td>\n",
       "      <td>0.28</td>\n",
       "      <td>0.25</td>\n",
       "      <td>0.25</td>\n",
       "    </tr>\n",
       "    <tr>\n",
       "      <th>min</th>\n",
       "      <td>0.00</td>\n",
       "      <td>0.00</td>\n",
       "      <td>0.00</td>\n",
       "      <td>0.00</td>\n",
       "      <td>0.00</td>\n",
       "    </tr>\n",
       "    <tr>\n",
       "      <th>25%</th>\n",
       "      <td>0.49</td>\n",
       "      <td>0.19</td>\n",
       "      <td>0.30</td>\n",
       "      <td>0.00</td>\n",
       "      <td>0.37</td>\n",
       "    </tr>\n",
       "    <tr>\n",
       "      <th>50%</th>\n",
       "      <td>0.62</td>\n",
       "      <td>0.26</td>\n",
       "      <td>0.50</td>\n",
       "      <td>0.00</td>\n",
       "      <td>0.59</td>\n",
       "    </tr>\n",
       "    <tr>\n",
       "      <th>75%</th>\n",
       "      <td>0.72</td>\n",
       "      <td>0.32</td>\n",
       "      <td>0.70</td>\n",
       "      <td>0.48</td>\n",
       "      <td>0.78</td>\n",
       "    </tr>\n",
       "    <tr>\n",
       "      <th>max</th>\n",
       "      <td>1.00</td>\n",
       "      <td>1.00</td>\n",
       "      <td>1.00</td>\n",
       "      <td>1.00</td>\n",
       "      <td>1.00</td>\n",
       "    </tr>\n",
       "  </tbody>\n",
       "</table>\n",
       "</div>"
      ],
      "text/plain": [
       "       CreditScore        Age     Tenure    Balance  EstimatedSalary\n",
       "count    165034.00  165034.00  165034.00  165034.00        165034.00\n",
       "mean          0.61       0.27       0.50       0.22             0.56\n",
       "std           0.16       0.12       0.28       0.25             0.25\n",
       "min           0.00       0.00       0.00       0.00             0.00\n",
       "25%           0.49       0.19       0.30       0.00             0.37\n",
       "50%           0.62       0.26       0.50       0.00             0.59\n",
       "75%           0.72       0.32       0.70       0.48             0.78\n",
       "max           1.00       1.00       1.00       1.00             1.00"
      ]
     },
     "metadata": {},
     "output_type": "display_data"
    }
   ],
   "source": [
    "scale_col = ['CreditScore', 'Age', 'Tenure', 'Balance', 'EstimatedSalary']\n",
    "print(\"Before scaling, training data summary: \")    \n",
    "display(X_train[scale_col].describe().round(2))\n",
    "\n",
    "# Scale both train and test data\n",
    "for col in scale_col:\n",
    "    min_val = X_train[col].min()\n",
    "    max_val = X_train[col].max()\n",
    "    X_train[col] = (X_train[col] - min_val) / (max_val - min_val)\n",
    "    X_test[col] = (X_test[col] - min_val) / (max_val - min_val)\n",
    "\n",
    "print(\"After scaling, training data summary: \")\n",
    "display(X_train[scale_col].describe().round(2))"
   ]
  },
  {
   "cell_type": "code",
   "execution_count": 36,
   "metadata": {},
   "outputs": [
    {
     "name": "stdout",
     "output_type": "stream",
     "text": [
      "Before scaling\n"
     ]
    },
    {
     "data": {
      "text/html": [
       "<div>\n",
       "<style scoped>\n",
       "    .dataframe tbody tr th:only-of-type {\n",
       "        vertical-align: middle;\n",
       "    }\n",
       "\n",
       "    .dataframe tbody tr th {\n",
       "        vertical-align: top;\n",
       "    }\n",
       "\n",
       "    .dataframe thead th {\n",
       "        text-align: right;\n",
       "    }\n",
       "</style>\n",
       "<table border=\"1\" class=\"dataframe\">\n",
       "  <thead>\n",
       "    <tr style=\"text-align: right;\">\n",
       "      <th></th>\n",
       "      <th>CreditScore</th>\n",
       "      <th>Age</th>\n",
       "      <th>Tenure</th>\n",
       "      <th>Balance</th>\n",
       "      <th>EstimatedSalary</th>\n",
       "    </tr>\n",
       "  </thead>\n",
       "  <tbody>\n",
       "    <tr>\n",
       "      <th>count</th>\n",
       "      <td>165034.00</td>\n",
       "      <td>165034.00</td>\n",
       "      <td>165034.00</td>\n",
       "      <td>165034.00</td>\n",
       "      <td>165034.00</td>\n",
       "    </tr>\n",
       "    <tr>\n",
       "      <th>mean</th>\n",
       "      <td>656.45</td>\n",
       "      <td>38.13</td>\n",
       "      <td>5.02</td>\n",
       "      <td>55478.09</td>\n",
       "      <td>112574.82</td>\n",
       "    </tr>\n",
       "    <tr>\n",
       "      <th>std</th>\n",
       "      <td>80.10</td>\n",
       "      <td>8.87</td>\n",
       "      <td>2.81</td>\n",
       "      <td>62817.66</td>\n",
       "      <td>50292.87</td>\n",
       "    </tr>\n",
       "    <tr>\n",
       "      <th>min</th>\n",
       "      <td>350.00</td>\n",
       "      <td>18.00</td>\n",
       "      <td>0.00</td>\n",
       "      <td>0.00</td>\n",
       "      <td>11.58</td>\n",
       "    </tr>\n",
       "    <tr>\n",
       "      <th>25%</th>\n",
       "      <td>597.00</td>\n",
       "      <td>32.00</td>\n",
       "      <td>3.00</td>\n",
       "      <td>0.00</td>\n",
       "      <td>74637.57</td>\n",
       "    </tr>\n",
       "    <tr>\n",
       "      <th>50%</th>\n",
       "      <td>659.00</td>\n",
       "      <td>37.00</td>\n",
       "      <td>5.00</td>\n",
       "      <td>0.00</td>\n",
       "      <td>117948.00</td>\n",
       "    </tr>\n",
       "    <tr>\n",
       "      <th>75%</th>\n",
       "      <td>710.00</td>\n",
       "      <td>42.00</td>\n",
       "      <td>7.00</td>\n",
       "      <td>119939.52</td>\n",
       "      <td>155152.47</td>\n",
       "    </tr>\n",
       "    <tr>\n",
       "      <th>max</th>\n",
       "      <td>850.00</td>\n",
       "      <td>92.00</td>\n",
       "      <td>10.00</td>\n",
       "      <td>250898.09</td>\n",
       "      <td>199992.48</td>\n",
       "    </tr>\n",
       "  </tbody>\n",
       "</table>\n",
       "</div>"
      ],
      "text/plain": [
       "       CreditScore        Age     Tenure    Balance  EstimatedSalary\n",
       "count    165034.00  165034.00  165034.00  165034.00        165034.00\n",
       "mean        656.45      38.13       5.02   55478.09        112574.82\n",
       "std          80.10       8.87       2.81   62817.66         50292.87\n",
       "min         350.00      18.00       0.00       0.00            11.58\n",
       "25%         597.00      32.00       3.00       0.00         74637.57\n",
       "50%         659.00      37.00       5.00       0.00        117948.00\n",
       "75%         710.00      42.00       7.00  119939.52        155152.47\n",
       "max         850.00      92.00      10.00  250898.09        199992.48"
      ]
     },
     "metadata": {},
     "output_type": "display_data"
    },
    {
     "name": "stdout",
     "output_type": "stream",
     "text": [
      "After scaling\n"
     ]
    },
    {
     "data": {
      "text/html": [
       "<div>\n",
       "<style scoped>\n",
       "    .dataframe tbody tr th:only-of-type {\n",
       "        vertical-align: middle;\n",
       "    }\n",
       "\n",
       "    .dataframe tbody tr th {\n",
       "        vertical-align: top;\n",
       "    }\n",
       "\n",
       "    .dataframe thead th {\n",
       "        text-align: right;\n",
       "    }\n",
       "</style>\n",
       "<table border=\"1\" class=\"dataframe\">\n",
       "  <thead>\n",
       "    <tr style=\"text-align: right;\">\n",
       "      <th></th>\n",
       "      <th>CreditScore</th>\n",
       "      <th>Age</th>\n",
       "      <th>Tenure</th>\n",
       "      <th>Balance</th>\n",
       "      <th>EstimatedSalary</th>\n",
       "    </tr>\n",
       "  </thead>\n",
       "  <tbody>\n",
       "    <tr>\n",
       "      <th>count</th>\n",
       "      <td>165034.00</td>\n",
       "      <td>165034.00</td>\n",
       "      <td>165034.00</td>\n",
       "      <td>165034.00</td>\n",
       "      <td>165034.00</td>\n",
       "    </tr>\n",
       "    <tr>\n",
       "      <th>mean</th>\n",
       "      <td>-0.00</td>\n",
       "      <td>0.00</td>\n",
       "      <td>-0.00</td>\n",
       "      <td>-0.00</td>\n",
       "      <td>-0.00</td>\n",
       "    </tr>\n",
       "    <tr>\n",
       "      <th>std</th>\n",
       "      <td>1.00</td>\n",
       "      <td>1.00</td>\n",
       "      <td>1.00</td>\n",
       "      <td>1.00</td>\n",
       "      <td>1.00</td>\n",
       "    </tr>\n",
       "    <tr>\n",
       "      <th>min</th>\n",
       "      <td>-3.83</td>\n",
       "      <td>-2.27</td>\n",
       "      <td>-1.79</td>\n",
       "      <td>-0.88</td>\n",
       "      <td>-2.24</td>\n",
       "    </tr>\n",
       "    <tr>\n",
       "      <th>25%</th>\n",
       "      <td>-0.74</td>\n",
       "      <td>-0.69</td>\n",
       "      <td>-0.72</td>\n",
       "      <td>-0.88</td>\n",
       "      <td>-0.75</td>\n",
       "    </tr>\n",
       "    <tr>\n",
       "      <th>50%</th>\n",
       "      <td>0.03</td>\n",
       "      <td>-0.13</td>\n",
       "      <td>-0.01</td>\n",
       "      <td>-0.88</td>\n",
       "      <td>0.11</td>\n",
       "    </tr>\n",
       "    <tr>\n",
       "      <th>75%</th>\n",
       "      <td>0.67</td>\n",
       "      <td>0.44</td>\n",
       "      <td>0.71</td>\n",
       "      <td>1.03</td>\n",
       "      <td>0.85</td>\n",
       "    </tr>\n",
       "    <tr>\n",
       "      <th>max</th>\n",
       "      <td>2.42</td>\n",
       "      <td>6.08</td>\n",
       "      <td>1.77</td>\n",
       "      <td>3.11</td>\n",
       "      <td>1.74</td>\n",
       "    </tr>\n",
       "  </tbody>\n",
       "</table>\n",
       "</div>"
      ],
      "text/plain": [
       "       CreditScore        Age     Tenure    Balance  EstimatedSalary\n",
       "count    165034.00  165034.00  165034.00  165034.00        165034.00\n",
       "mean         -0.00       0.00      -0.00      -0.00            -0.00\n",
       "std           1.00       1.00       1.00       1.00             1.00\n",
       "min          -3.83      -2.27      -1.79      -0.88            -2.24\n",
       "25%          -0.74      -0.69      -0.72      -0.88            -0.75\n",
       "50%           0.03      -0.13      -0.01      -0.88             0.11\n",
       "75%           0.67       0.44       0.71       1.03             0.85\n",
       "max           2.42       6.08       1.77       3.11             1.74"
      ]
     },
     "metadata": {},
     "output_type": "display_data"
    }
   ],
   "source": [
    "scale_col = ['CreditScore', 'Age', 'Tenure', 'Balance', 'EstimatedSalary']\n",
    "print(\"Before scaling\")\n",
    "display(X[scale_col].describe().round(2))\n",
    "\n",
    "\n",
    "# Scale the columns\n",
    "from sklearn.preprocessing import StandardScaler\n",
    "\n",
    "scaler = StandardScaler()\n",
    "X[scale_col] = scaler.fit_transform(X[scale_col])\n",
    "print(\"After scaling\")\n",
    "display(X[scale_col].describe().round(2))"
   ]
  },
  {
   "cell_type": "code",
   "execution_count": null,
   "metadata": {},
   "outputs": [],
   "source": []
  },
  {
   "cell_type": "code",
   "execution_count": 55,
   "metadata": {},
   "outputs": [
    {
     "name": "stdout",
     "output_type": "stream",
     "text": [
      "Exited\n",
      "0    0.788401\n",
      "1    0.211599\n",
      "Name: proportion, dtype: float64\n",
      "Exited\n",
      "0    0.78841\n",
      "1    0.21159\n",
      "Name: proportion, dtype: float64\n"
     ]
    }
   ],
   "source": [
    "# Splitting Data into Train and Test:\n",
    "# X_train, X_test, y_train, y_test = train_test_split(X, y, \n",
    "#                                                     random_state=1, \n",
    "#                                                     stratify=y)\n",
    "# Checking the ratio of the label after splitting into train and test: \n",
    "print(y_train.value_counts(normalize=True))\n",
    "print(y_test.value_counts(normalize=True))"
   ]
  },
  {
   "cell_type": "markdown",
   "metadata": {},
   "source": [
    "We keep the same "
   ]
  },
  {
   "cell_type": "markdown",
   "metadata": {},
   "source": [
    "## Model Training"
   ]
  },
  {
   "cell_type": "markdown",
   "metadata": {},
   "source": [
    "### 1. Creating Baseline Model: "
   ]
  },
  {
   "cell_type": "code",
   "execution_count": null,
   "metadata": {},
   "outputs": [],
   "source": [
    "# Building base line model\n",
    "xgb_1 = XGBClassifier(objective='binary:logistic', \n",
    "                      seed=1)\n",
    "xgb_1.fit(X_train, y_train, verbose=True, \n",
    "            early_stopping_rounds=10, eval_metric='auc', eval_set=[(X_test, y_test)])"
   ]
  },
  {
   "cell_type": "code",
   "execution_count": 26,
   "metadata": {},
   "outputs": [
    {
     "name": "stdout",
     "output_type": "stream",
     "text": [
      "              precision    recall  f1-score   support\n",
      "\n",
      "           0       0.89      0.94      0.92     32529\n",
      "           1       0.73      0.55      0.63      8730\n",
      "\n",
      "    accuracy                           0.86     41259\n",
      "   macro avg       0.81      0.75      0.77     41259\n",
      "weighted avg       0.85      0.86      0.85     41259\n",
      "\n"
     ]
    }
   ],
   "source": [
    "# Get all evaluation metrics on the test set\n",
    "y_pred = xgb_1.predict(X_test)\n",
    "print(classification_report(y_test, y_pred))\n",
    "\n",
    "conf_matrix_baseline = confusion_matrix(y_test, y_pred)"
   ]
  },
  {
   "cell_type": "code",
   "execution_count": 27,
   "metadata": {},
   "outputs": [
    {
     "data": {
      "image/png": "[encoded data removed]",
      "text/plain": [
       "<Figure size 800x500 with 2 Axes>"
      ]
     },
     "metadata": {},
     "output_type": "display_data"
    }
   ],
   "source": [
    "# Function to plot confusion matrix\n",
    "def plot_confusion_matrix(conf_matrix):\n",
    "    plt.figure(figsize=(8, 5))\n",
    "    sns.heatmap(conf_matrix, annot=True, fmt='d')\n",
    "    plt.xlabel('Predicted')\n",
    "    plt.ylabel('Actual')\n",
    "    plt.title('Confusion Matrix')\n",
    "    plt.show()\n",
    "\n",
    "# Plot confusion matrix\n",
    "plot_confusion_matrix(conf_matrix_baseline)"
   ]
  },
  {
   "cell_type": "markdown",
   "metadata": {},
   "source": [
    "We can draw some initial conclusions for **the baseline model** (Note: we define 0 is negative and 1 is positive): \n",
    "- True Negative, or predicted 0 (non-exited) and actually 0: **30722** \n",
    "- True Positive, or predicted 1 (exited) and actually 1: **4831**\n",
    "- False Negative, or predicted 0 (non-exited) but actually 1 (exited): **3899**\n",
    "- False Positive, or predicted 1 (exited) but actually 0 (non-exited): **1807**\n",
    "\n",
    "Next are some business-centric measures that is crucial in churn evaluation problem: \n",
    "- **False Negative (FN)** is an important measure for churn problem - the business does not want to under-value customers that would exit (1) by classifying them as non-exit (0) - because the cost of new customer acquisition is generally higher than the cost of keeping the customer. Ideally, the model should minimize the FN number. \n",
    "- **False Negative Rate, $FNR = \\frac{{FN}}{P} = \\frac{{FN}}{FN + TP}$** essentially means: out of all **actually exited customers**, what is the percentage of the customers does the model fail to capture. In this baseline model, $FNR = 44.66\\%$. This is a very high rate and our goal is to drive that down. \n",
    "- The Precision, \n",
    "- The AUC-ROC "
   ]
  },
  {
   "cell_type": "markdown",
   "metadata": {},
   "source": []
  },
  {
   "cell_type": "markdown",
   "metadata": {},
   "source": [
    "### 2. Model Hyperparameter Tuning and Cross-Validation: "
   ]
  },
  {
   "cell_type": "markdown",
   "metadata": {},
   "source": [
    "- Since the dataset is imbalanced with more negative-label data than positive-label data, we could use `scale_pos_weight` to deal with the imbalance"
   ]
  },
  {
   "cell_type": "code",
   "execution_count": null,
   "metadata": {},
   "outputs": [],
   "source": [
    "from sklearn.model_selection import GridSearchCV\n",
    "\n",
    "xgb_param_grid = {\n",
    "    'max_depth': [3, 4, 5],\n",
    "    'learning_rate': [0.01, 0.05, 0.1],\n",
    "    'reg_lambda': [0.1, 0.5, 1.0, 10.0],\n",
    "    'gamma': [0, 0.25, 1.0],\n",
    "    'scale_pos_weight': [1, 3, 5]\n",
    "}\n",
    "\n",
    "opt_param = GridSearchCV(estimator=XGBClassifier(objective='binary:logistic',\n",
    "                                                seed=1,\n",
    "                                                subsample=0.9,\n",
    "                                                colsample_bytree=0.5),\n",
    "                        param_grid=xgb_param_grid,\n",
    "                        scoring='roc_auc',\n",
    "                        verbose=3,\n",
    "                        n_jobs=10,\n",
    "                        cv=3)\n",
    "opt_param.fit(X_train, y_train, \n",
    "                early_stopping_rounds=10,\n",
    "                eval_metric='auc',\n",
    "                eval_set=[(X_test, y_test)],\n",
    "                verbose=True) "
   ]
  },
  {
   "cell_type": "code",
   "execution_count": 15,
   "metadata": {},
   "outputs": [
    {
     "name": "stdout",
     "output_type": "stream",
     "text": [
      "Best parameters found: \n",
      "{'gamma': 0.25, 'learning_rate': 0.1, 'max_depth': 5, 'reg_lambda': 10.0, 'scale_pos_weight': 5}\n"
     ]
    }
   ],
   "source": [
    "print('Best parameters found: ')\n",
    "print(opt_param.best_params_)"
   ]
  },
  {
   "cell_type": "code",
   "execution_count": 16,
   "metadata": {},
   "outputs": [
    {
     "name": "stderr",
     "output_type": "stream",
     "text": [
      "/Users/trungdo/miniforge3/envs/kaggle_2/lib/python3.12/site-packages/xgboost/sklearn.py:889: UserWarning: `eval_metric` in `fit` method is deprecated for better compatibility with scikit-learn, use `eval_metric` in constructor or`set_params` instead.\n",
      "  warnings.warn(\n",
      "/Users/trungdo/miniforge3/envs/kaggle_2/lib/python3.12/site-packages/xgboost/sklearn.py:889: UserWarning: `early_stopping_rounds` in `fit` method is deprecated for better compatibility with scikit-learn, use `early_stopping_rounds` in constructor or`set_params` instead.\n",
      "  warnings.warn(\n"
     ]
    }
   ],
   "source": [
    "# Get all evaluation metrics on the test set\n",
    "opt_xgb = XGBClassifier(objective='binary:logistic',\n",
    "                        seed=1,\n",
    "                        max_depth=5,\n",
    "                        learning_rate=0.1,\n",
    "                        reg_lambda=10.0,\n",
    "                        gamma=0.25,\n",
    "                        scale_pos_weight=5, \n",
    "                        subsample=0.9,\n",
    "                        colsample_bytree=0.5)\n",
    "opt_xgb.fit(X_train, y_train, \n",
    "            verbose=False, \n",
    "            early_stopping_rounds=40, \n",
    "            eval_metric='auc',\n",
    "            eval_set=[(X_test, y_test)])\n",
    "\n",
    "y_pred2 = opt_xgb.predict(X_test)\n",
    "conf_matrix = confusion_matrix(y_test, y_pred2)\n"
   ]
  },
  {
   "cell_type": "code",
   "execution_count": 17,
   "metadata": {},
   "outputs": [
    {
     "name": "stdout",
     "output_type": "stream",
     "text": [
      "Classification Report for baseline model: \n",
      "              precision    recall  f1-score   support\n",
      "\n",
      "           0       0.89      0.94      0.92     32529\n",
      "           1       0.73      0.55      0.63      8730\n",
      "\n",
      "    accuracy                           0.86     41259\n",
      "   macro avg       0.81      0.75      0.77     41259\n",
      "weighted avg       0.85      0.86      0.85     41259\n",
      "\n",
      "Classification Report for optimized model: \n",
      "              precision    recall  f1-score   support\n",
      "\n",
      "           0       0.95      0.76      0.84     32529\n",
      "           1       0.48      0.84      0.61      8730\n",
      "\n",
      "    accuracy                           0.78     41259\n",
      "   macro avg       0.72      0.80      0.73     41259\n",
      "weighted avg       0.85      0.78      0.79     41259\n",
      "\n"
     ]
    }
   ],
   "source": [
    "print('Classification Report for baseline model: ')\n",
    "print(classification_report(y_test, y_pred))\n",
    "\n",
    "print('Classification Report for optimized model: ')\n",
    "print(classification_report(y_test, y_pred2))"
   ]
  },
  {
   "cell_type": "code",
   "execution_count": 18,
   "metadata": {},
   "outputs": [
    {
     "data": {
      "image/png": "[encoded data removed]",
      "text/plain": [
       "<Figure size 800x500 with 2 Axes>"
      ]
     },
     "metadata": {},
     "output_type": "display_data"
    }
   ],
   "source": [
    "# Plot confusion matrix\n",
    "plt.figure(figsize=(8, 5))\n",
    "sns.heatmap(conf_matrix, annot=True, fmt='d')\n",
    "plt.xlabel('Predicted')\n",
    "plt.ylabel('Actual')\n",
    "plt.title('Confusion Matrix')\n",
    "plt.show()"
   ]
  },
  {
   "cell_type": "markdown",
   "metadata": {},
   "source": [
    "We can draw some initial conclusions for **the optimized model** using some business-centric measures:\n",
    "\n",
    "- **False Negative (FN)** is an important measure for churn problem - the business does not want to under-value customers that would exit (1) by classifying them as non-exit (0) - because the cost of new customer acquisition is generally higher than the cost of keeping the customer. Ideally, the model should minimize the FN number. \n",
    "- **False Negative Rate, $FNR = \\frac{{FN}}{P} = \\frac{{FN}}{FN + TP}$** essentially means: out of all **actually exited customers**, what is the percentage of the customers does the model fail to capture. In this baseline model, $FNR = 44.66\\%$. This is a very high rate and our goal is to drive that down. \n",
    "- The Precision, \n",
    "- The AUC"
   ]
  },
  {
   "cell_type": "code",
   "execution_count": 19,
   "metadata": {},
   "outputs": [
    {
     "name": "stdout",
     "output_type": "stream",
     "text": [
      "AUC Score: 0.8853553267844496\n"
     ]
    }
   ],
   "source": [
    "# get model auc score\n",
    "from sklearn.metrics import roc_auc_score\n",
    "y_prob_pred = opt_xgb.predict_proba(X_test)[:, 1]\n",
    "auc_score = roc_auc_score(y_test, y_prob_pred)\n",
    "# auc_score = roc_auc_score(y_test, y_pred2)\n",
    "print(f'AUC Score: {auc_score}')"
   ]
  },
  {
   "cell_type": "code",
   "execution_count": null,
   "metadata": {},
   "outputs": [],
   "source": []
  }
 ],
 "metadata": {
  "kernelspec": {
   "display_name": "kaggle_2",
   "language": "python",
   "name": "python3"
  },
  "language_info": {
   "codemirror_mode": {
    "name": "ipython",
    "version": 3
   },
   "file_extension": ".py",
   "mimetype": "text/x-python",
   "name": "python",
   "nbconvert_exporter": "python",
   "pygments_lexer": "ipython3",
   "version": "3.12.2"
  }
 },
 "nbformat": 4,
 "nbformat_minor": 2
}
